{
 "cells": [
  {
   "attachments": {},
   "cell_type": "markdown",
   "metadata": {},
   "source": [
    "<h4>Imports</h4>"
   ]
  },
  {
   "cell_type": "code",
   "execution_count": 167,
   "metadata": {},
   "outputs": [],
   "source": [
    "import pandas as pd\n",
    "import numpy as np\n",
    "import matplotlib.pyplot as plt\n",
    "import seaborn as sns\n",
    "import mplsoccer as mpls\n",
    "from mplsoccer import Pitch, VerticalPitch, FontManager\n",
    "import matplotlib.ticker as ticker\n",
    "from matplotlib import cm\n",
    "from matplotlib.colors import ListedColormap\n",
    "\n",
    "import matplotlib.patheffects as path_effects\n",
    "import matplotlib.pyplot as plt\n",
    "from matplotlib.colors import LinearSegmentedColormap\n",
    "from scipy.ndimage import gaussian_filter"
   ]
  },
  {
   "cell_type": "code",
   "execution_count": 58,
   "metadata": {},
   "outputs": [
    {
     "name": "stderr",
     "output_type": "stream",
     "text": [
      "C:\\Users\\Aykut\\AppData\\Local\\Temp\\ipykernel_4272\\505737534.py:1: DtypeWarning: Columns (17,69,74,75,81,85,89,90,91,100,102,103,104,105,106,107,108,110,111,112,113,114,115,118,119,120,121,122,123,124,125,126,127,128,129,131,132,133,134,135,136,137,138,139,140,141,142,143) have mixed types. Specify dtype option on import or set low_memory=False.\n",
      "  df = pd.read_csv('datasets/euro2020data_combined.csv')\n"
     ]
    }
   ],
   "source": [
    "df = pd.read_csv('datasets/euro2020data_combined.csv')"
   ]
  },
  {
   "attachments": {},
   "cell_type": "markdown",
   "metadata": {},
   "source": [
    "<h2>Data Handling"
   ]
  },
  {
   "cell_type": "code",
   "execution_count": 59,
   "metadata": {},
   "outputs": [
    {
     "data": {
      "text/html": [
       "<div>\n",
       "<style scoped>\n",
       "    .dataframe tbody tr th:only-of-type {\n",
       "        vertical-align: middle;\n",
       "    }\n",
       "\n",
       "    .dataframe tbody tr th {\n",
       "        vertical-align: top;\n",
       "    }\n",
       "\n",
       "    .dataframe thead th {\n",
       "        text-align: right;\n",
       "    }\n",
       "</style>\n",
       "<table border=\"1\" class=\"dataframe\">\n",
       "  <thead>\n",
       "    <tr style=\"text-align: right;\">\n",
       "      <th></th>\n",
       "      <th>id</th>\n",
       "      <th>index</th>\n",
       "      <th>period</th>\n",
       "      <th>timestamp</th>\n",
       "      <th>minute</th>\n",
       "      <th>second</th>\n",
       "      <th>possession</th>\n",
       "      <th>duration</th>\n",
       "      <th>type_id</th>\n",
       "      <th>type_name</th>\n",
       "      <th>...</th>\n",
       "      <th>next_event</th>\n",
       "      <th>previous_event</th>\n",
       "      <th>next_team_possession</th>\n",
       "      <th>previous_team_possession</th>\n",
       "      <th>possession_retained</th>\n",
       "      <th>endloc_x</th>\n",
       "      <th>endloc_y</th>\n",
       "      <th>dist1</th>\n",
       "      <th>dist2</th>\n",
       "      <th>diffdist</th>\n",
       "    </tr>\n",
       "  </thead>\n",
       "  <tbody>\n",
       "    <tr>\n",
       "      <th>0</th>\n",
       "      <td>2e4b1b7f-e67e-4bef-8cf1-2eab2ab81af2</td>\n",
       "      <td>1</td>\n",
       "      <td>1</td>\n",
       "      <td>00:00:00.000</td>\n",
       "      <td>0</td>\n",
       "      <td>0</td>\n",
       "      <td>1</td>\n",
       "      <td>0.000000</td>\n",
       "      <td>35</td>\n",
       "      <td>Starting XI</td>\n",
       "      <td>...</td>\n",
       "      <td>Starting XI</td>\n",
       "      <td>NaN</td>\n",
       "      <td>Switzerland</td>\n",
       "      <td>NaN</td>\n",
       "      <td>1</td>\n",
       "      <td>NaN</td>\n",
       "      <td>NaN</td>\n",
       "      <td>NaN</td>\n",
       "      <td>NaN</td>\n",
       "      <td>NaN</td>\n",
       "    </tr>\n",
       "    <tr>\n",
       "      <th>1</th>\n",
       "      <td>f73c3f38-8c45-4802-8cb9-5a87234f385b</td>\n",
       "      <td>2</td>\n",
       "      <td>1</td>\n",
       "      <td>00:00:00.000</td>\n",
       "      <td>0</td>\n",
       "      <td>0</td>\n",
       "      <td>1</td>\n",
       "      <td>0.000000</td>\n",
       "      <td>35</td>\n",
       "      <td>Starting XI</td>\n",
       "      <td>...</td>\n",
       "      <td>Half Start</td>\n",
       "      <td>Starting XI</td>\n",
       "      <td>Switzerland</td>\n",
       "      <td>Switzerland</td>\n",
       "      <td>1</td>\n",
       "      <td>NaN</td>\n",
       "      <td>NaN</td>\n",
       "      <td>NaN</td>\n",
       "      <td>NaN</td>\n",
       "      <td>NaN</td>\n",
       "    </tr>\n",
       "    <tr>\n",
       "      <th>2</th>\n",
       "      <td>9098375d-3f07-4241-bdc9-3602a2e5c754</td>\n",
       "      <td>3</td>\n",
       "      <td>1</td>\n",
       "      <td>00:00:00.000</td>\n",
       "      <td>0</td>\n",
       "      <td>0</td>\n",
       "      <td>1</td>\n",
       "      <td>0.000000</td>\n",
       "      <td>18</td>\n",
       "      <td>Half Start</td>\n",
       "      <td>...</td>\n",
       "      <td>Half Start</td>\n",
       "      <td>Starting XI</td>\n",
       "      <td>Switzerland</td>\n",
       "      <td>Switzerland</td>\n",
       "      <td>1</td>\n",
       "      <td>NaN</td>\n",
       "      <td>NaN</td>\n",
       "      <td>NaN</td>\n",
       "      <td>NaN</td>\n",
       "      <td>NaN</td>\n",
       "    </tr>\n",
       "    <tr>\n",
       "      <th>3</th>\n",
       "      <td>18099197-a92a-4398-ac5e-39dad539c3eb</td>\n",
       "      <td>4</td>\n",
       "      <td>1</td>\n",
       "      <td>00:00:00.000</td>\n",
       "      <td>0</td>\n",
       "      <td>0</td>\n",
       "      <td>1</td>\n",
       "      <td>0.000000</td>\n",
       "      <td>18</td>\n",
       "      <td>Half Start</td>\n",
       "      <td>...</td>\n",
       "      <td>Pass</td>\n",
       "      <td>Half Start</td>\n",
       "      <td>Spain</td>\n",
       "      <td>Switzerland</td>\n",
       "      <td>0</td>\n",
       "      <td>NaN</td>\n",
       "      <td>NaN</td>\n",
       "      <td>NaN</td>\n",
       "      <td>NaN</td>\n",
       "      <td>NaN</td>\n",
       "    </tr>\n",
       "    <tr>\n",
       "      <th>4</th>\n",
       "      <td>ea57ee78-a4ef-4d62-81c7-98cdf1c11925</td>\n",
       "      <td>5</td>\n",
       "      <td>1</td>\n",
       "      <td>00:00:00.967</td>\n",
       "      <td>0</td>\n",
       "      <td>0</td>\n",
       "      <td>2</td>\n",
       "      <td>1.511008</td>\n",
       "      <td>30</td>\n",
       "      <td>Pass</td>\n",
       "      <td>...</td>\n",
       "      <td>Ball Receipt*</td>\n",
       "      <td>Half Start</td>\n",
       "      <td>Spain</td>\n",
       "      <td>Switzerland</td>\n",
       "      <td>1</td>\n",
       "      <td>35.2</td>\n",
       "      <td>33.3</td>\n",
       "      <td>59.000085</td>\n",
       "      <td>85.06427</td>\n",
       "      <td>-26.064185</td>\n",
       "    </tr>\n",
       "  </tbody>\n",
       "</table>\n",
       "<p>5 rows × 174 columns</p>\n",
       "</div>"
      ],
      "text/plain": [
       "                                     id  index  period     timestamp  minute  \\\n",
       "0  2e4b1b7f-e67e-4bef-8cf1-2eab2ab81af2      1       1  00:00:00.000       0   \n",
       "1  f73c3f38-8c45-4802-8cb9-5a87234f385b      2       1  00:00:00.000       0   \n",
       "2  9098375d-3f07-4241-bdc9-3602a2e5c754      3       1  00:00:00.000       0   \n",
       "3  18099197-a92a-4398-ac5e-39dad539c3eb      4       1  00:00:00.000       0   \n",
       "4  ea57ee78-a4ef-4d62-81c7-98cdf1c11925      5       1  00:00:00.967       0   \n",
       "\n",
       "   second  possession  duration  type_id    type_name  ...     next_event  \\\n",
       "0       0           1  0.000000       35  Starting XI  ...    Starting XI   \n",
       "1       0           1  0.000000       35  Starting XI  ...     Half Start   \n",
       "2       0           1  0.000000       18   Half Start  ...     Half Start   \n",
       "3       0           1  0.000000       18   Half Start  ...           Pass   \n",
       "4       0           2  1.511008       30         Pass  ...  Ball Receipt*   \n",
       "\n",
       "  previous_event  next_team_possession previous_team_possession  \\\n",
       "0            NaN           Switzerland                      NaN   \n",
       "1    Starting XI           Switzerland              Switzerland   \n",
       "2    Starting XI           Switzerland              Switzerland   \n",
       "3     Half Start                 Spain              Switzerland   \n",
       "4     Half Start                 Spain              Switzerland   \n",
       "\n",
       "   possession_retained endloc_x  endloc_y      dist1     dist2   diffdist  \n",
       "0                    1      NaN       NaN        NaN       NaN        NaN  \n",
       "1                    1      NaN       NaN        NaN       NaN        NaN  \n",
       "2                    1      NaN       NaN        NaN       NaN        NaN  \n",
       "3                    0      NaN       NaN        NaN       NaN        NaN  \n",
       "4                    1     35.2      33.3  59.000085  85.06427 -26.064185  \n",
       "\n",
       "[5 rows x 174 columns]"
      ]
     },
     "execution_count": 59,
     "metadata": {},
     "output_type": "execute_result"
    }
   ],
   "source": [
    "df.head()"
   ]
  },
  {
   "cell_type": "code",
   "execution_count": 60,
   "metadata": {},
   "outputs": [
    {
     "data": {
      "text/plain": [
       "(192692, 174)"
      ]
     },
     "execution_count": 60,
     "metadata": {},
     "output_type": "execute_result"
    }
   ],
   "source": [
    "df.shape"
   ]
  },
  {
   "cell_type": "code",
   "execution_count": 61,
   "metadata": {},
   "outputs": [
    {
     "name": "stdout",
     "output_type": "stream",
     "text": [
      "id                                   object\n",
      "index                                 int64\n",
      "period                                int64\n",
      "timestamp                            object\n",
      "minute                                int64\n",
      "second                                int64\n",
      "possession                            int64\n",
      "duration                            float64\n",
      "type_id                               int64\n",
      "type_name                            object\n",
      "possession_team_id                    int64\n",
      "possession_team_name                 object\n",
      "play_pattern_id                       int64\n",
      "play_pattern_name                    object\n",
      "team_id                               int64\n",
      "team_name                            object\n",
      "tactics_formation                   float64\n",
      "tactics_lineup                       object\n",
      "related_events                       object\n",
      "location                             object\n",
      "player_id                           float64\n",
      "player_name                          object\n",
      "position_id                         float64\n",
      "position_name                        object\n",
      "pass_recipient_id                   float64\n",
      "pass_recipient_name                  object\n",
      "pass_length                         float64\n",
      "pass_angle                          float64\n",
      "pass_height_id                      float64\n",
      "pass_height_name                     object\n",
      "pass_end_location                    object\n",
      "pass_body_part_id                   float64\n",
      "pass_body_part_name                  object\n",
      "pass_type_id                        float64\n",
      "pass_type_name                       object\n",
      "carry_end_location                   object\n",
      "under_pressure                       object\n",
      "pass_outcome_id                     float64\n",
      "pass_outcome_name                    object\n",
      "ball_receipt_outcome_id             float64\n",
      "ball_receipt_outcome_name            object\n",
      "duel_type_id                        float64\n",
      "duel_type_name                       object\n",
      "clearance_body_part_id              float64\n",
      "clearance_body_part_name             object\n",
      "clearance_head                       object\n",
      "clearance_aerial_won                 object\n",
      "duel_outcome_id                     float64\n",
      "duel_outcome_name                    object\n",
      "interception_outcome_id             float64\n",
      "interception_outcome_name            object\n",
      "shot_statsbomb_xg                   float64\n",
      "shot_end_location                    object\n",
      "shot_technique_id                   float64\n",
      "shot_technique_name                  object\n",
      "shot_body_part_id                   float64\n",
      "shot_body_part_name                  object\n",
      "shot_type_id                        float64\n",
      "shot_type_name                       object\n",
      "shot_outcome_id                     float64\n",
      "shot_outcome_name                    object\n",
      "shot_freeze_frame                    object\n",
      "goalkeeper_end_location              object\n",
      "goalkeeper_position_id              float64\n",
      "goalkeeper_position_name             object\n",
      "goalkeeper_type_id                  float64\n",
      "goalkeeper_type_name                 object\n",
      "off_camera                           object\n",
      "pass_cross                           object\n",
      "clearance_left_foot                  object\n",
      "goalkeeper_outcome_id               float64\n",
      "goalkeeper_outcome_name              object\n",
      "counterpress                         object\n",
      "out                                  object\n",
      "miscontrol_aerial_won                object\n",
      "ball_recovery_recovery_failure       object\n",
      "pass_switch                          object\n",
      "pass_assisted_shot_id                object\n",
      "pass_shot_assist                     object\n",
      "pass_technique_id                   float64\n",
      "pass_technique_name                  object\n",
      "pass_outswinging                     object\n",
      "shot_key_pass_id                     object\n",
      "shot_first_time                      object\n",
      "dribble_outcome_id                  float64\n",
      "dribble_outcome_name                 object\n",
      "pass_aerial_won                      object\n",
      "clearance_right_foot                 object\n",
      "foul_committed_type_id              float64\n",
      "foul_committed_type_name             object\n",
      "foul_won_defensive                   object\n",
      "pass_inswinging                      object\n",
      "substitution_outcome_id             float64\n",
      "substitution_outcome_name            object\n",
      "substitution_replacement_id         float64\n",
      "substitution_replacement_name        object\n",
      "goalkeeper_technique_id             float64\n",
      "goalkeeper_technique_name            object\n",
      "goalkeeper_body_part_id             float64\n",
      "goalkeeper_body_part_name            object\n",
      "shot_aerial_won                      object\n",
      "50_50_outcome_id                    float64\n",
      "50_50_outcome_name                   object\n",
      "dribble_overrun                      object\n",
      "ball_recovery_offensive              object\n",
      "foul_committed_advantage             object\n",
      "foul_won_advantage                   object\n",
      "block_deflection                     object\n",
      "pass_through_ball                    object\n",
      "foul_committed_card_id              float64\n",
      "foul_committed_card_name             object\n",
      "pass_goal_assist                     object\n",
      "block_offensive                      object\n",
      "pass_cut_back                        object\n",
      "pass_deflected                       object\n",
      "shot_one_on_one                      object\n",
      "match_id                              int64\n",
      "season_id                             int64\n",
      "foul_committed_offensive             object\n",
      "injury_stoppage_in_chain             object\n",
      "pass_straight                        object\n",
      "pass_no_touch                        object\n",
      "pass_miscommunication                object\n",
      "goalkeeper_punched_out               object\n",
      "foul_committed_penalty               object\n",
      "foul_won_penalty                     object\n",
      "block_save_block                     object\n",
      "shot_redirect                        object\n",
      "dribble_nutmeg                       object\n",
      "shot_deflected                       object\n",
      "bad_behaviour_card_id               float64\n",
      "bad_behaviour_card_name              object\n",
      "clearance_other                      object\n",
      "shot_open_goal                       object\n",
      "shot_saved_to_post                   object\n",
      "goalkeeper_shot_saved_to_post        object\n",
      "shot_saved_off_target                object\n",
      "goalkeeper_shot_saved_off_target     object\n",
      "goalkeeper_lost_in_play              object\n",
      "goalkeeper_success_in_play           object\n",
      "dribble_no_touch                     object\n",
      "goalkeeper_penalty_saved_to_post     object\n",
      "shot_follows_dribble                 object\n",
      "player_off_permanent                 object\n",
      "match_date                           object\n",
      "competition_id                      float64\n",
      "home_team_name                       object\n",
      "away_team_name                       object\n",
      "event_uuid                           object\n",
      "visible_area                         object\n",
      "freeze_frame                         object\n",
      "obv_total_net                       float64\n",
      "mins_total                          float64\n",
      "location_x                          float64\n",
      "location_y                          float64\n",
      "pass_end_location_x                 float64\n",
      "pass_end_location_y                 float64\n",
      "carry_end_location_x                float64\n",
      "carry_end_location_y                float64\n",
      "shot_end_location_x                 float64\n",
      "shot_end_location_y                 float64\n",
      "shot_end_location_z                 float64\n",
      "goalkeeper_end_location_x           float64\n",
      "goalkeeper_end_location_y           float64\n",
      "next_event                           object\n",
      "previous_event                       object\n",
      "next_team_possession                 object\n",
      "previous_team_possession             object\n",
      "possession_retained                   int64\n",
      "endloc_x                            float64\n",
      "endloc_y                            float64\n",
      "dist1                               float64\n",
      "dist2                               float64\n",
      "diffdist                            float64\n",
      "dtype: object\n"
     ]
    }
   ],
   "source": [
    "with pd.option_context('display.max_rows', 174, 'display.max_columns', None):\n",
    "    print(df.dtypes)"
   ]
  },
  {
   "cell_type": "code",
   "execution_count": 62,
   "metadata": {},
   "outputs": [
    {
     "name": "stdout",
     "output_type": "stream",
     "text": [
      "<class 'pandas.core.frame.DataFrame'>\n",
      "RangeIndex: 192692 entries, 0 to 192691\n",
      "Columns: 174 entries, id to diffdist\n",
      "dtypes: float64(53), int64(12), object(109)\n",
      "memory usage: 255.8+ MB\n"
     ]
    }
   ],
   "source": [
    "df.info()"
   ]
  },
  {
   "cell_type": "code",
   "execution_count": 63,
   "metadata": {},
   "outputs": [
    {
     "name": "stdout",
     "output_type": "stream",
     "text": [
      "Number of matches:  51\n",
      "Number of events:  192692\n",
      "Number of shots:  1289\n",
      "Number of goals:  155\n",
      "Number of passes:  54819\n"
     ]
    }
   ],
   "source": [
    "match_count = df['match_id'].nunique()\n",
    "event_count = len(df)\n",
    "shot_count =  len(df[(df['type_name'] == 'Shot')])\n",
    "goal_count = len(df[(df['shot_outcome_name'] == 'Goal')])\n",
    "pass_count = len(df[(df['type_name'] == 'Pass')])\n",
    "\n",
    "print('Number of matches: ', match_count)\n",
    "print('Number of events: ', event_count)\n",
    "print('Number of shots: ', shot_count)\n",
    "print('Number of goals: ', goal_count)\n",
    "print('Number of passes: ', pass_count)\n"
   ]
  },
  {
   "cell_type": "code",
   "execution_count": 64,
   "metadata": {},
   "outputs": [
    {
     "name": "stdout",
     "output_type": "stream",
     "text": [
      "Pass                 54819\n",
      "Ball Receipt*        52721\n",
      "Carry                43801\n",
      "Pressure             15958\n",
      "Ball Recovery         4445\n",
      "Duel                  3355\n",
      "Clearance             2283\n",
      "Block                 1770\n",
      "Goal Keeper           1514\n",
      "Dribble               1476\n",
      "Interception          1460\n",
      "Foul Committed        1394\n",
      "Foul Won              1337\n",
      "Shot                  1289\n",
      "Miscontrol            1273\n",
      "Dispossessed          1087\n",
      "Dribbled Past          894\n",
      "Substitution           454\n",
      "Injury Stoppage        288\n",
      "Half Start             244\n",
      "Half End               244\n",
      "Tactical Shift         125\n",
      "Referee Ball-Drop      121\n",
      "Starting XI            102\n",
      "Shield                  58\n",
      "50/50                   56\n",
      "Bad Behaviour           26\n",
      "Error                   24\n",
      "Player Off              22\n",
      "Player On               21\n",
      "Own Goal Against        11\n",
      "Own Goal For            11\n",
      "Offside                  9\n",
      "Name: type_name, dtype: int64\n"
     ]
    }
   ],
   "source": [
    "type_counts = df['type_name'].value_counts()\n",
    "\n",
    "# Display the type counts\n",
    "print(type_counts)"
   ]
  },
  {
   "attachments": {},
   "cell_type": "markdown",
   "metadata": {},
   "source": [
    "<h5> Creating functions and dataframes for later use"
   ]
  },
  {
   "cell_type": "code",
   "execution_count": 65,
   "metadata": {},
   "outputs": [
    {
     "data": {
      "text/plain": [
       "[3788755, 3788741, 3788765]"
      ]
     },
     "execution_count": 65,
     "metadata": {},
     "output_type": "execute_result"
    }
   ],
   "source": [
    "turkey_matches = df.loc[df['team_name'] == 'Turkey', ['match_id', 'home_team_name', 'away_team_name']].drop_duplicates().reset_index(drop=True)\n",
    "matchids = turkey_matches['match_id'].tolist()\n",
    "matchids"
   ]
  },
  {
   "cell_type": "code",
   "execution_count": 175,
   "metadata": {},
   "outputs": [
    {
     "data": {
      "text/html": [
       "<div>\n",
       "<style scoped>\n",
       "    .dataframe tbody tr th:only-of-type {\n",
       "        vertical-align: middle;\n",
       "    }\n",
       "\n",
       "    .dataframe tbody tr th {\n",
       "        vertical-align: top;\n",
       "    }\n",
       "\n",
       "    .dataframe thead th {\n",
       "        text-align: right;\n",
       "    }\n",
       "</style>\n",
       "<table border=\"1\" class=\"dataframe\">\n",
       "  <thead>\n",
       "    <tr style=\"text-align: right;\">\n",
       "      <th></th>\n",
       "      <th>match_id</th>\n",
       "      <th>minute</th>\n",
       "      <th>team_name</th>\n",
       "      <th>shot_statsbomb_xg</th>\n",
       "      <th>shot_outcome_name</th>\n",
       "      <th>location_x</th>\n",
       "      <th>location_y</th>\n",
       "    </tr>\n",
       "  </thead>\n",
       "  <tbody>\n",
       "    <tr>\n",
       "      <th>0</th>\n",
       "      <td>3788741</td>\n",
       "      <td>2</td>\n",
       "      <td>Italy</td>\n",
       "      <td>0.052236</td>\n",
       "      <td>Off T</td>\n",
       "      <td>114.6</td>\n",
       "      <td>50.1</td>\n",
       "    </tr>\n",
       "    <tr>\n",
       "      <th>1</th>\n",
       "      <td>3788741</td>\n",
       "      <td>13</td>\n",
       "      <td>Italy</td>\n",
       "      <td>0.009444</td>\n",
       "      <td>Blocked</td>\n",
       "      <td>98.9</td>\n",
       "      <td>58.7</td>\n",
       "    </tr>\n",
       "    <tr>\n",
       "      <th>2</th>\n",
       "      <td>3788741</td>\n",
       "      <td>17</td>\n",
       "      <td>Italy</td>\n",
       "      <td>0.098552</td>\n",
       "      <td>Off T</td>\n",
       "      <td>108.2</td>\n",
       "      <td>27.3</td>\n",
       "    </tr>\n",
       "    <tr>\n",
       "      <th>3</th>\n",
       "      <td>3788741</td>\n",
       "      <td>19</td>\n",
       "      <td>Italy</td>\n",
       "      <td>0.006578</td>\n",
       "      <td>Off T</td>\n",
       "      <td>87.0</td>\n",
       "      <td>53.6</td>\n",
       "    </tr>\n",
       "    <tr>\n",
       "      <th>4</th>\n",
       "      <td>3788741</td>\n",
       "      <td>20</td>\n",
       "      <td>Italy</td>\n",
       "      <td>0.051247</td>\n",
       "      <td>Blocked</td>\n",
       "      <td>97.1</td>\n",
       "      <td>44.3</td>\n",
       "    </tr>\n",
       "    <tr>\n",
       "      <th>...</th>\n",
       "      <td>...</td>\n",
       "      <td>...</td>\n",
       "      <td>...</td>\n",
       "      <td>...</td>\n",
       "      <td>...</td>\n",
       "      <td>...</td>\n",
       "      <td>...</td>\n",
       "    </tr>\n",
       "    <tr>\n",
       "      <th>99</th>\n",
       "      <td>3788765</td>\n",
       "      <td>79</td>\n",
       "      <td>Switzerland</td>\n",
       "      <td>0.064403</td>\n",
       "      <td>Blocked</td>\n",
       "      <td>104.4</td>\n",
       "      <td>44.1</td>\n",
       "    </tr>\n",
       "    <tr>\n",
       "      <th>100</th>\n",
       "      <td>3788765</td>\n",
       "      <td>82</td>\n",
       "      <td>Turkey</td>\n",
       "      <td>0.034126</td>\n",
       "      <td>Blocked</td>\n",
       "      <td>96.9</td>\n",
       "      <td>51.1</td>\n",
       "    </tr>\n",
       "    <tr>\n",
       "      <th>101</th>\n",
       "      <td>3788765</td>\n",
       "      <td>82</td>\n",
       "      <td>Turkey</td>\n",
       "      <td>0.204877</td>\n",
       "      <td>Off T</td>\n",
       "      <td>113.4</td>\n",
       "      <td>41.1</td>\n",
       "    </tr>\n",
       "    <tr>\n",
       "      <th>102</th>\n",
       "      <td>3788765</td>\n",
       "      <td>88</td>\n",
       "      <td>Turkey</td>\n",
       "      <td>0.146092</td>\n",
       "      <td>Saved</td>\n",
       "      <td>108.4</td>\n",
       "      <td>37.1</td>\n",
       "    </tr>\n",
       "    <tr>\n",
       "      <th>103</th>\n",
       "      <td>3788765</td>\n",
       "      <td>93</td>\n",
       "      <td>Turkey</td>\n",
       "      <td>0.129073</td>\n",
       "      <td>Blocked</td>\n",
       "      <td>112.5</td>\n",
       "      <td>39.6</td>\n",
       "    </tr>\n",
       "  </tbody>\n",
       "</table>\n",
       "<p>104 rows × 7 columns</p>\n",
       "</div>"
      ],
      "text/plain": [
       "     match_id  minute    team_name  shot_statsbomb_xg shot_outcome_name  \\\n",
       "0     3788741       2        Italy           0.052236             Off T   \n",
       "1     3788741      13        Italy           0.009444           Blocked   \n",
       "2     3788741      17        Italy           0.098552             Off T   \n",
       "3     3788741      19        Italy           0.006578             Off T   \n",
       "4     3788741      20        Italy           0.051247           Blocked   \n",
       "..        ...     ...          ...                ...               ...   \n",
       "99    3788765      79  Switzerland           0.064403           Blocked   \n",
       "100   3788765      82       Turkey           0.034126           Blocked   \n",
       "101   3788765      82       Turkey           0.204877             Off T   \n",
       "102   3788765      88       Turkey           0.146092             Saved   \n",
       "103   3788765      93       Turkey           0.129073           Blocked   \n",
       "\n",
       "     location_x  location_y  \n",
       "0         114.6        50.1  \n",
       "1          98.9        58.7  \n",
       "2         108.2        27.3  \n",
       "3          87.0        53.6  \n",
       "4          97.1        44.3  \n",
       "..          ...         ...  \n",
       "99        104.4        44.1  \n",
       "100        96.9        51.1  \n",
       "101       113.4        41.1  \n",
       "102       108.4        37.1  \n",
       "103       112.5        39.6  \n",
       "\n",
       "[104 rows x 7 columns]"
      ]
     },
     "execution_count": 175,
     "metadata": {},
     "output_type": "execute_result"
    }
   ],
   "source": [
    "forxg = df[(df['type_name'] == 'Shot') & (df['match_id'].isin(matchids))]\n",
    "forxg = forxg[[\"match_id\",'minute', 'team_name', 'shot_statsbomb_xg', 'shot_outcome_name', 'location']]\n",
    "forxg['location_x'] = forxg['location'].str.split(',', expand=True)[0].str.strip()\n",
    "forxg['location_y'] = forxg['location'].str.split(',', expand=True)[1].str.strip()\n",
    "forxg['location_x'] = pd.to_numeric(forxg['location_x'], errors='coerce')\n",
    "forxg['location_y'] = pd.to_numeric(forxg['location_y'], errors='coerce')\n",
    "forxg['shot_statsbomb_xg'] = pd.to_numeric(forxg['shot_statsbomb_xg'], errors='coerce')\n",
    "\n",
    "forxg = forxg.drop('location', axis=1)\n",
    "forxg.groupby(\"match_id\")\n",
    "forxg.sort_values(by=['match_id', 'minute'], inplace=True)\n",
    "forxg.reset_index(drop=True, inplace=True)\n",
    "\n",
    "forxg"
   ]
  },
  {
   "cell_type": "code",
   "execution_count": 68,
   "metadata": {},
   "outputs": [
    {
     "data": {
      "text/html": [
       "<div>\n",
       "<style scoped>\n",
       "    .dataframe tbody tr th:only-of-type {\n",
       "        vertical-align: middle;\n",
       "    }\n",
       "\n",
       "    .dataframe tbody tr th {\n",
       "        vertical-align: top;\n",
       "    }\n",
       "\n",
       "    .dataframe thead th {\n",
       "        text-align: right;\n",
       "    }\n",
       "</style>\n",
       "<table border=\"1\" class=\"dataframe\">\n",
       "  <thead>\n",
       "    <tr style=\"text-align: right;\">\n",
       "      <th></th>\n",
       "      <th>match_id</th>\n",
       "      <th>team_name</th>\n",
       "      <th>shot_count</th>\n",
       "    </tr>\n",
       "  </thead>\n",
       "  <tbody>\n",
       "    <tr>\n",
       "      <th>0</th>\n",
       "      <td>3788741</td>\n",
       "      <td>Italy</td>\n",
       "      <td>24</td>\n",
       "    </tr>\n",
       "    <tr>\n",
       "      <th>1</th>\n",
       "      <td>3788741</td>\n",
       "      <td>Turkey</td>\n",
       "      <td>3</td>\n",
       "    </tr>\n",
       "    <tr>\n",
       "      <th>2</th>\n",
       "      <td>3788755</td>\n",
       "      <td>Turkey</td>\n",
       "      <td>18</td>\n",
       "    </tr>\n",
       "    <tr>\n",
       "      <th>3</th>\n",
       "      <td>3788755</td>\n",
       "      <td>Wales</td>\n",
       "      <td>16</td>\n",
       "    </tr>\n",
       "    <tr>\n",
       "      <th>4</th>\n",
       "      <td>3788765</td>\n",
       "      <td>Switzerland</td>\n",
       "      <td>23</td>\n",
       "    </tr>\n",
       "    <tr>\n",
       "      <th>5</th>\n",
       "      <td>3788765</td>\n",
       "      <td>Turkey</td>\n",
       "      <td>20</td>\n",
       "    </tr>\n",
       "  </tbody>\n",
       "</table>\n",
       "</div>"
      ],
      "text/plain": [
       "   match_id    team_name  shot_count\n",
       "0   3788741        Italy          24\n",
       "1   3788741       Turkey           3\n",
       "2   3788755       Turkey          18\n",
       "3   3788755        Wales          16\n",
       "4   3788765  Switzerland          23\n",
       "5   3788765       Turkey          20"
      ]
     },
     "execution_count": 68,
     "metadata": {},
     "output_type": "execute_result"
    }
   ],
   "source": [
    "shot_count_by_match = forxg.groupby(['match_id', 'team_name']).size().reset_index(name='shot_count')\n",
    "shot_count_by_match"
   ]
  },
  {
   "cell_type": "code",
   "execution_count": 69,
   "metadata": {},
   "outputs": [
    {
     "data": {
      "text/html": [
       "<div>\n",
       "<style scoped>\n",
       "    .dataframe tbody tr th:only-of-type {\n",
       "        vertical-align: middle;\n",
       "    }\n",
       "\n",
       "    .dataframe tbody tr th {\n",
       "        vertical-align: top;\n",
       "    }\n",
       "\n",
       "    .dataframe thead th {\n",
       "        text-align: right;\n",
       "    }\n",
       "</style>\n",
       "<table border=\"1\" class=\"dataframe\">\n",
       "  <thead>\n",
       "    <tr style=\"text-align: right;\">\n",
       "      <th></th>\n",
       "      <th>match_id</th>\n",
       "      <th>team_name</th>\n",
       "      <th>type_name</th>\n",
       "    </tr>\n",
       "  </thead>\n",
       "  <tbody>\n",
       "    <tr>\n",
       "      <th>0</th>\n",
       "      <td>3788741</td>\n",
       "      <td>Italy</td>\n",
       "      <td>7</td>\n",
       "    </tr>\n",
       "    <tr>\n",
       "      <th>1</th>\n",
       "      <td>3788741</td>\n",
       "      <td>Turkey</td>\n",
       "      <td>6</td>\n",
       "    </tr>\n",
       "    <tr>\n",
       "      <th>2</th>\n",
       "      <td>3788755</td>\n",
       "      <td>Turkey</td>\n",
       "      <td>8</td>\n",
       "    </tr>\n",
       "    <tr>\n",
       "      <th>3</th>\n",
       "      <td>3788755</td>\n",
       "      <td>Wales</td>\n",
       "      <td>6</td>\n",
       "    </tr>\n",
       "    <tr>\n",
       "      <th>4</th>\n",
       "      <td>3788765</td>\n",
       "      <td>Switzerland</td>\n",
       "      <td>15</td>\n",
       "    </tr>\n",
       "    <tr>\n",
       "      <th>5</th>\n",
       "      <td>3788765</td>\n",
       "      <td>Turkey</td>\n",
       "      <td>10</td>\n",
       "    </tr>\n",
       "  </tbody>\n",
       "</table>\n",
       "</div>"
      ],
      "text/plain": [
       "   match_id    team_name  type_name\n",
       "0   3788741        Italy          7\n",
       "1   3788741       Turkey          6\n",
       "2   3788755       Turkey          8\n",
       "3   3788755        Wales          6\n",
       "4   3788765  Switzerland         15\n",
       "5   3788765       Turkey         10"
      ]
     },
     "execution_count": 69,
     "metadata": {},
     "output_type": "execute_result"
    }
   ],
   "source": [
    "fordisp=df[(df['type_name'] == 'Dispossessed') & (df['match_id'].isin(matchids))]\n",
    "fordisp = fordisp[[\"match_id\",'team_name', 'type_name']].reset_index(drop=True)\n",
    "disp_count_by_match = fordisp.groupby(['match_id', 'team_name']).size().reset_index(name='type_name')\n",
    "disp_count_by_match"
   ]
  },
  {
   "cell_type": "code",
   "execution_count": 70,
   "metadata": {},
   "outputs": [
    {
     "data": {
      "text/html": [
       "<div>\n",
       "<style scoped>\n",
       "    .dataframe tbody tr th:only-of-type {\n",
       "        vertical-align: middle;\n",
       "    }\n",
       "\n",
       "    .dataframe tbody tr th {\n",
       "        vertical-align: top;\n",
       "    }\n",
       "\n",
       "    .dataframe thead th {\n",
       "        text-align: right;\n",
       "    }\n",
       "</style>\n",
       "<table border=\"1\" class=\"dataframe\">\n",
       "  <thead>\n",
       "    <tr style=\"text-align: right;\">\n",
       "      <th></th>\n",
       "      <th>match_id</th>\n",
       "      <th>team_name</th>\n",
       "      <th>type_name</th>\n",
       "    </tr>\n",
       "  </thead>\n",
       "  <tbody>\n",
       "    <tr>\n",
       "      <th>0</th>\n",
       "      <td>3788741</td>\n",
       "      <td>Italy</td>\n",
       "      <td>7</td>\n",
       "    </tr>\n",
       "    <tr>\n",
       "      <th>1</th>\n",
       "      <td>3788741</td>\n",
       "      <td>Turkey</td>\n",
       "      <td>6</td>\n",
       "    </tr>\n",
       "    <tr>\n",
       "      <th>2</th>\n",
       "      <td>3788755</td>\n",
       "      <td>Turkey</td>\n",
       "      <td>8</td>\n",
       "    </tr>\n",
       "    <tr>\n",
       "      <th>3</th>\n",
       "      <td>3788755</td>\n",
       "      <td>Wales</td>\n",
       "      <td>6</td>\n",
       "    </tr>\n",
       "    <tr>\n",
       "      <th>4</th>\n",
       "      <td>3788765</td>\n",
       "      <td>Switzerland</td>\n",
       "      <td>15</td>\n",
       "    </tr>\n",
       "    <tr>\n",
       "      <th>5</th>\n",
       "      <td>3788765</td>\n",
       "      <td>Turkey</td>\n",
       "      <td>10</td>\n",
       "    </tr>\n",
       "  </tbody>\n",
       "</table>\n",
       "</div>"
      ],
      "text/plain": [
       "   match_id    team_name  type_name\n",
       "0   3788741        Italy          7\n",
       "1   3788741       Turkey          6\n",
       "2   3788755       Turkey          8\n",
       "3   3788755        Wales          6\n",
       "4   3788765  Switzerland         15\n",
       "5   3788765       Turkey         10"
      ]
     },
     "execution_count": 70,
     "metadata": {},
     "output_type": "execute_result"
    }
   ],
   "source": [
    "formiscontrol=df[(df['type_name'] == 'Miscontrol') & (df['match_id'].isin(matchids))]\n",
    "formiscontrol = formiscontrol[[\"match_id\",'team_name', 'type_name']].reset_index(drop=True)\n",
    "miscontrol_count_by_match = fordisp.groupby(['match_id', 'team_name']).size().reset_index(name='type_name')\n",
    "miscontrol_count_by_match"
   ]
  },
  {
   "cell_type": "code",
   "execution_count": 71,
   "metadata": {},
   "outputs": [
    {
     "data": {
      "text/html": [
       "<div>\n",
       "<style scoped>\n",
       "    .dataframe tbody tr th:only-of-type {\n",
       "        vertical-align: middle;\n",
       "    }\n",
       "\n",
       "    .dataframe tbody tr th {\n",
       "        vertical-align: top;\n",
       "    }\n",
       "\n",
       "    .dataframe thead th {\n",
       "        text-align: right;\n",
       "    }\n",
       "</style>\n",
       "<table border=\"1\" class=\"dataframe\">\n",
       "  <thead>\n",
       "    <tr style=\"text-align: right;\">\n",
       "      <th></th>\n",
       "      <th>match_id</th>\n",
       "      <th>team_name</th>\n",
       "      <th>total_duration</th>\n",
       "      <th>possession_percentage</th>\n",
       "    </tr>\n",
       "  </thead>\n",
       "  <tbody>\n",
       "    <tr>\n",
       "      <th>0</th>\n",
       "      <td>3788741</td>\n",
       "      <td>Italy</td>\n",
       "      <td>2224.722585</td>\n",
       "      <td>66.517099</td>\n",
       "    </tr>\n",
       "    <tr>\n",
       "      <th>1</th>\n",
       "      <td>3788741</td>\n",
       "      <td>Turkey</td>\n",
       "      <td>1119.864937</td>\n",
       "      <td>33.482901</td>\n",
       "    </tr>\n",
       "    <tr>\n",
       "      <th>2</th>\n",
       "      <td>3788755</td>\n",
       "      <td>Turkey</td>\n",
       "      <td>1868.413592</td>\n",
       "      <td>62.146837</td>\n",
       "    </tr>\n",
       "    <tr>\n",
       "      <th>3</th>\n",
       "      <td>3788755</td>\n",
       "      <td>Wales</td>\n",
       "      <td>1138.036422</td>\n",
       "      <td>37.853163</td>\n",
       "    </tr>\n",
       "    <tr>\n",
       "      <th>4</th>\n",
       "      <td>3788765</td>\n",
       "      <td>Switzerland</td>\n",
       "      <td>1707.254901</td>\n",
       "      <td>50.917371</td>\n",
       "    </tr>\n",
       "    <tr>\n",
       "      <th>5</th>\n",
       "      <td>3788765</td>\n",
       "      <td>Turkey</td>\n",
       "      <td>1645.736150</td>\n",
       "      <td>49.082629</td>\n",
       "    </tr>\n",
       "  </tbody>\n",
       "</table>\n",
       "</div>"
      ],
      "text/plain": [
       "   match_id    team_name  total_duration  possession_percentage\n",
       "0   3788741        Italy     2224.722585              66.517099\n",
       "1   3788741       Turkey     1119.864937              33.482901\n",
       "2   3788755       Turkey     1868.413592              62.146837\n",
       "3   3788755        Wales     1138.036422              37.853163\n",
       "4   3788765  Switzerland     1707.254901              50.917371\n",
       "5   3788765       Turkey     1645.736150              49.082629"
      ]
     },
     "execution_count": 71,
     "metadata": {},
     "output_type": "execute_result"
    }
   ],
   "source": [
    "posdata = df.groupby(['match_id', 'possession_team_name'])['duration'].sum().reset_index(name='total_duration')\n",
    "posdata['possession_percentage'] = posdata.groupby('match_id')['total_duration'].transform(lambda x: x / x.sum() * 100)\n",
    "possession_per_match = posdata[posdata['match_id'].isin(matchids)].reset_index(drop=True)\n",
    "possession_per_match = possession_per_match.rename(columns={'possession_team_name': 'team_name'})\n",
    "possession_per_match"
   ]
  },
  {
   "cell_type": "code",
   "execution_count": 148,
   "metadata": {},
   "outputs": [
    {
     "data": {
      "text/html": [
       "<div>\n",
       "<style scoped>\n",
       "    .dataframe tbody tr th:only-of-type {\n",
       "        vertical-align: middle;\n",
       "    }\n",
       "\n",
       "    .dataframe tbody tr th {\n",
       "        vertical-align: top;\n",
       "    }\n",
       "\n",
       "    .dataframe thead th {\n",
       "        text-align: right;\n",
       "    }\n",
       "</style>\n",
       "<table border=\"1\" class=\"dataframe\">\n",
       "  <thead>\n",
       "    <tr style=\"text-align: right;\">\n",
       "      <th></th>\n",
       "      <th>match_id</th>\n",
       "      <th>team_name</th>\n",
       "      <th>type_name</th>\n",
       "      <th>location_x</th>\n",
       "      <th>location_y</th>\n",
       "    </tr>\n",
       "  </thead>\n",
       "  <tbody>\n",
       "    <tr>\n",
       "      <th>0</th>\n",
       "      <td>3788755</td>\n",
       "      <td>Turkey</td>\n",
       "      <td>Pressure</td>\n",
       "      <td>26.1</td>\n",
       "      <td>56.7</td>\n",
       "    </tr>\n",
       "    <tr>\n",
       "      <th>1</th>\n",
       "      <td>3788755</td>\n",
       "      <td>Turkey</td>\n",
       "      <td>Pressure</td>\n",
       "      <td>33.6</td>\n",
       "      <td>53.0</td>\n",
       "    </tr>\n",
       "    <tr>\n",
       "      <th>2</th>\n",
       "      <td>3788755</td>\n",
       "      <td>Turkey</td>\n",
       "      <td>Pressure</td>\n",
       "      <td>23.0</td>\n",
       "      <td>49.0</td>\n",
       "    </tr>\n",
       "    <tr>\n",
       "      <th>3</th>\n",
       "      <td>3788755</td>\n",
       "      <td>Wales</td>\n",
       "      <td>Pressure</td>\n",
       "      <td>90.8</td>\n",
       "      <td>26.2</td>\n",
       "    </tr>\n",
       "    <tr>\n",
       "      <th>4</th>\n",
       "      <td>3788755</td>\n",
       "      <td>Wales</td>\n",
       "      <td>Pressure</td>\n",
       "      <td>82.1</td>\n",
       "      <td>9.4</td>\n",
       "    </tr>\n",
       "    <tr>\n",
       "      <th>...</th>\n",
       "      <td>...</td>\n",
       "      <td>...</td>\n",
       "      <td>...</td>\n",
       "      <td>...</td>\n",
       "      <td>...</td>\n",
       "    </tr>\n",
       "    <tr>\n",
       "      <th>1069</th>\n",
       "      <td>3788765</td>\n",
       "      <td>Switzerland</td>\n",
       "      <td>Pressure</td>\n",
       "      <td>27.4</td>\n",
       "      <td>24.9</td>\n",
       "    </tr>\n",
       "    <tr>\n",
       "      <th>1070</th>\n",
       "      <td>3788765</td>\n",
       "      <td>Switzerland</td>\n",
       "      <td>Pressure</td>\n",
       "      <td>23.9</td>\n",
       "      <td>21.8</td>\n",
       "    </tr>\n",
       "    <tr>\n",
       "      <th>1071</th>\n",
       "      <td>3788765</td>\n",
       "      <td>Switzerland</td>\n",
       "      <td>Pressure</td>\n",
       "      <td>16.0</td>\n",
       "      <td>36.6</td>\n",
       "    </tr>\n",
       "    <tr>\n",
       "      <th>1072</th>\n",
       "      <td>3788765</td>\n",
       "      <td>Switzerland</td>\n",
       "      <td>Pressure</td>\n",
       "      <td>27.9</td>\n",
       "      <td>49.3</td>\n",
       "    </tr>\n",
       "    <tr>\n",
       "      <th>1073</th>\n",
       "      <td>3788765</td>\n",
       "      <td>Switzerland</td>\n",
       "      <td>Pressure</td>\n",
       "      <td>13.7</td>\n",
       "      <td>56.9</td>\n",
       "    </tr>\n",
       "  </tbody>\n",
       "</table>\n",
       "<p>1074 rows × 5 columns</p>\n",
       "</div>"
      ],
      "text/plain": [
       "      match_id    team_name type_name  location_x  location_y\n",
       "0      3788755       Turkey  Pressure        26.1        56.7\n",
       "1      3788755       Turkey  Pressure        33.6        53.0\n",
       "2      3788755       Turkey  Pressure        23.0        49.0\n",
       "3      3788755        Wales  Pressure        90.8        26.2\n",
       "4      3788755        Wales  Pressure        82.1         9.4\n",
       "...        ...          ...       ...         ...         ...\n",
       "1069   3788765  Switzerland  Pressure        27.4        24.9\n",
       "1070   3788765  Switzerland  Pressure        23.9        21.8\n",
       "1071   3788765  Switzerland  Pressure        16.0        36.6\n",
       "1072   3788765  Switzerland  Pressure        27.9        49.3\n",
       "1073   3788765  Switzerland  Pressure        13.7        56.9\n",
       "\n",
       "[1074 rows x 5 columns]"
      ]
     },
     "execution_count": 148,
     "metadata": {},
     "output_type": "execute_result"
    }
   ],
   "source": [
    "forpress=df[(df['type_name'] == 'Pressure') & (df['match_id'].isin(matchids))]\n",
    "forpress = forpress[[\"match_id\",'team_name', 'type_name', 'location']].reset_index(drop=True)\n",
    "forpress['location_x'] = forpress['location'].str.split(',', expand=True)[0].str.strip()\n",
    "forpress['location_y'] = forpress['location'].str.split(',', expand=True)[1].str.strip()\n",
    "forpress['location_x'] = pd.to_numeric(forpress['location_x'], errors='coerce')\n",
    "forpress['location_y'] = pd.to_numeric(forpress['location_y'], errors='coerce')\n",
    "forpress = forpress.drop('location', axis=1)\n",
    "forpress"
   ]
  },
  {
   "cell_type": "code",
   "execution_count": 149,
   "metadata": {},
   "outputs": [
    {
     "data": {
      "text/html": [
       "<div>\n",
       "<style scoped>\n",
       "    .dataframe tbody tr th:only-of-type {\n",
       "        vertical-align: middle;\n",
       "    }\n",
       "\n",
       "    .dataframe tbody tr th {\n",
       "        vertical-align: top;\n",
       "    }\n",
       "\n",
       "    .dataframe thead th {\n",
       "        text-align: right;\n",
       "    }\n",
       "</style>\n",
       "<table border=\"1\" class=\"dataframe\">\n",
       "  <thead>\n",
       "    <tr style=\"text-align: right;\">\n",
       "      <th></th>\n",
       "      <th>match_id</th>\n",
       "      <th>team_name</th>\n",
       "      <th>type_name</th>\n",
       "    </tr>\n",
       "  </thead>\n",
       "  <tbody>\n",
       "    <tr>\n",
       "      <th>0</th>\n",
       "      <td>3788741</td>\n",
       "      <td>Italy</td>\n",
       "      <td>161</td>\n",
       "    </tr>\n",
       "    <tr>\n",
       "      <th>1</th>\n",
       "      <td>3788741</td>\n",
       "      <td>Turkey</td>\n",
       "      <td>221</td>\n",
       "    </tr>\n",
       "    <tr>\n",
       "      <th>2</th>\n",
       "      <td>3788755</td>\n",
       "      <td>Turkey</td>\n",
       "      <td>160</td>\n",
       "    </tr>\n",
       "    <tr>\n",
       "      <th>3</th>\n",
       "      <td>3788755</td>\n",
       "      <td>Wales</td>\n",
       "      <td>158</td>\n",
       "    </tr>\n",
       "    <tr>\n",
       "      <th>4</th>\n",
       "      <td>3788765</td>\n",
       "      <td>Switzerland</td>\n",
       "      <td>174</td>\n",
       "    </tr>\n",
       "    <tr>\n",
       "      <th>5</th>\n",
       "      <td>3788765</td>\n",
       "      <td>Turkey</td>\n",
       "      <td>200</td>\n",
       "    </tr>\n",
       "  </tbody>\n",
       "</table>\n",
       "</div>"
      ],
      "text/plain": [
       "   match_id    team_name  type_name\n",
       "0   3788741        Italy        161\n",
       "1   3788741       Turkey        221\n",
       "2   3788755       Turkey        160\n",
       "3   3788755        Wales        158\n",
       "4   3788765  Switzerland        174\n",
       "5   3788765       Turkey        200"
      ]
     },
     "execution_count": 149,
     "metadata": {},
     "output_type": "execute_result"
    }
   ],
   "source": [
    "press_count_by_match = forpress.groupby(['match_id', 'team_name']).size().reset_index(name='type_name')\n",
    "\n",
    "press_count_by_match"
   ]
  },
  {
   "cell_type": "code",
   "execution_count": 142,
   "metadata": {},
   "outputs": [
    {
     "data": {
      "text/html": [
       "<div>\n",
       "<style scoped>\n",
       "    .dataframe tbody tr th:only-of-type {\n",
       "        vertical-align: middle;\n",
       "    }\n",
       "\n",
       "    .dataframe tbody tr th {\n",
       "        vertical-align: top;\n",
       "    }\n",
       "\n",
       "    .dataframe thead th {\n",
       "        text-align: right;\n",
       "    }\n",
       "</style>\n",
       "<table border=\"1\" class=\"dataframe\">\n",
       "  <thead>\n",
       "    <tr style=\"text-align: right;\">\n",
       "      <th></th>\n",
       "      <th>match_id</th>\n",
       "      <th>team_name</th>\n",
       "      <th>counterpress</th>\n",
       "      <th>location_x</th>\n",
       "      <th>location_y</th>\n",
       "    </tr>\n",
       "  </thead>\n",
       "  <tbody>\n",
       "    <tr>\n",
       "      <th>0</th>\n",
       "      <td>3788741</td>\n",
       "      <td>Italy</td>\n",
       "      <td>True</td>\n",
       "      <td>49.8</td>\n",
       "      <td>2.7</td>\n",
       "    </tr>\n",
       "    <tr>\n",
       "      <th>1</th>\n",
       "      <td>3788741</td>\n",
       "      <td>Italy</td>\n",
       "      <td>True</td>\n",
       "      <td>60.2</td>\n",
       "      <td>76.8</td>\n",
       "    </tr>\n",
       "    <tr>\n",
       "      <th>2</th>\n",
       "      <td>3788741</td>\n",
       "      <td>Italy</td>\n",
       "      <td>True</td>\n",
       "      <td>52.8</td>\n",
       "      <td>74.1</td>\n",
       "    </tr>\n",
       "    <tr>\n",
       "      <th>3</th>\n",
       "      <td>3788741</td>\n",
       "      <td>Italy</td>\n",
       "      <td>True</td>\n",
       "      <td>74.4</td>\n",
       "      <td>4.1</td>\n",
       "    </tr>\n",
       "    <tr>\n",
       "      <th>4</th>\n",
       "      <td>3788741</td>\n",
       "      <td>Italy</td>\n",
       "      <td>True</td>\n",
       "      <td>75.9</td>\n",
       "      <td>8.6</td>\n",
       "    </tr>\n",
       "    <tr>\n",
       "      <th>...</th>\n",
       "      <td>...</td>\n",
       "      <td>...</td>\n",
       "      <td>...</td>\n",
       "      <td>...</td>\n",
       "      <td>...</td>\n",
       "    </tr>\n",
       "    <tr>\n",
       "      <th>337</th>\n",
       "      <td>3788765</td>\n",
       "      <td>Turkey</td>\n",
       "      <td>True</td>\n",
       "      <td>79.5</td>\n",
       "      <td>4.4</td>\n",
       "    </tr>\n",
       "    <tr>\n",
       "      <th>338</th>\n",
       "      <td>3788765</td>\n",
       "      <td>Turkey</td>\n",
       "      <td>True</td>\n",
       "      <td>76.9</td>\n",
       "      <td>4.4</td>\n",
       "    </tr>\n",
       "    <tr>\n",
       "      <th>339</th>\n",
       "      <td>3788765</td>\n",
       "      <td>Turkey</td>\n",
       "      <td>True</td>\n",
       "      <td>77.7</td>\n",
       "      <td>5.7</td>\n",
       "    </tr>\n",
       "    <tr>\n",
       "      <th>340</th>\n",
       "      <td>3788765</td>\n",
       "      <td>Switzerland</td>\n",
       "      <td>True</td>\n",
       "      <td>36.4</td>\n",
       "      <td>17.7</td>\n",
       "    </tr>\n",
       "    <tr>\n",
       "      <th>341</th>\n",
       "      <td>3788765</td>\n",
       "      <td>Turkey</td>\n",
       "      <td>True</td>\n",
       "      <td>87.8</td>\n",
       "      <td>50.5</td>\n",
       "    </tr>\n",
       "  </tbody>\n",
       "</table>\n",
       "<p>342 rows × 5 columns</p>\n",
       "</div>"
      ],
      "text/plain": [
       "     match_id    team_name counterpress  location_x  location_y\n",
       "0     3788741        Italy         True        49.8         2.7\n",
       "1     3788741        Italy         True        60.2        76.8\n",
       "2     3788741        Italy         True        52.8        74.1\n",
       "3     3788741        Italy         True        74.4         4.1\n",
       "4     3788741        Italy         True        75.9         8.6\n",
       "..        ...          ...          ...         ...         ...\n",
       "337   3788765       Turkey         True        79.5         4.4\n",
       "338   3788765       Turkey         True        76.9         4.4\n",
       "339   3788765       Turkey         True        77.7         5.7\n",
       "340   3788765  Switzerland         True        36.4        17.7\n",
       "341   3788765       Turkey         True        87.8        50.5\n",
       "\n",
       "[342 rows x 5 columns]"
      ]
     },
     "execution_count": 142,
     "metadata": {},
     "output_type": "execute_result"
    }
   ],
   "source": [
    "forcntrprs = df[df['match_id'].isin(matchids) & (df['counterpress'] == True)]\n",
    "forcntrprs = forcntrprs[[\"match_id\",'team_name','counterpress', 'location']]\n",
    "forcntrprs.groupby(\"match_id\")\n",
    "forcntrprs.sort_values(by=['match_id'], inplace=True)\n",
    "forcntrprs.reset_index(drop=True, inplace=True)\n",
    "forcntrprs['location_x'] = forcntrprs['location'].str.split(',', expand=True)[0].str.strip()\n",
    "forcntrprs['location_y'] = forcntrprs['location'].str.split(',', expand=True)[1].str.strip()\n",
    "forcntrprs['location_x'] = pd.to_numeric(forcntrprs['location_x'], errors='coerce')\n",
    "forcntrprs['location_y'] = pd.to_numeric(forcntrprs['location_y'], errors='coerce')\n",
    "forcntrprs = forcntrprs.drop('location', axis=1)\n",
    "forcntrprs"
   ]
  },
  {
   "cell_type": "code",
   "execution_count": 143,
   "metadata": {},
   "outputs": [
    {
     "data": {
      "text/html": [
       "<div>\n",
       "<style scoped>\n",
       "    .dataframe tbody tr th:only-of-type {\n",
       "        vertical-align: middle;\n",
       "    }\n",
       "\n",
       "    .dataframe tbody tr th {\n",
       "        vertical-align: top;\n",
       "    }\n",
       "\n",
       "    .dataframe thead th {\n",
       "        text-align: right;\n",
       "    }\n",
       "</style>\n",
       "<table border=\"1\" class=\"dataframe\">\n",
       "  <thead>\n",
       "    <tr style=\"text-align: right;\">\n",
       "      <th></th>\n",
       "      <th>match_id</th>\n",
       "      <th>team_name</th>\n",
       "      <th>counterpress</th>\n",
       "    </tr>\n",
       "  </thead>\n",
       "  <tbody>\n",
       "    <tr>\n",
       "      <th>0</th>\n",
       "      <td>3788741</td>\n",
       "      <td>Italy</td>\n",
       "      <td>76</td>\n",
       "    </tr>\n",
       "    <tr>\n",
       "      <th>1</th>\n",
       "      <td>3788741</td>\n",
       "      <td>Turkey</td>\n",
       "      <td>51</td>\n",
       "    </tr>\n",
       "    <tr>\n",
       "      <th>2</th>\n",
       "      <td>3788755</td>\n",
       "      <td>Turkey</td>\n",
       "      <td>45</td>\n",
       "    </tr>\n",
       "    <tr>\n",
       "      <th>3</th>\n",
       "      <td>3788755</td>\n",
       "      <td>Wales</td>\n",
       "      <td>42</td>\n",
       "    </tr>\n",
       "    <tr>\n",
       "      <th>4</th>\n",
       "      <td>3788765</td>\n",
       "      <td>Switzerland</td>\n",
       "      <td>62</td>\n",
       "    </tr>\n",
       "    <tr>\n",
       "      <th>5</th>\n",
       "      <td>3788765</td>\n",
       "      <td>Turkey</td>\n",
       "      <td>66</td>\n",
       "    </tr>\n",
       "  </tbody>\n",
       "</table>\n",
       "</div>"
      ],
      "text/plain": [
       "   match_id    team_name  counterpress\n",
       "0   3788741        Italy            76\n",
       "1   3788741       Turkey            51\n",
       "2   3788755       Turkey            45\n",
       "3   3788755        Wales            42\n",
       "4   3788765  Switzerland            62\n",
       "5   3788765       Turkey            66"
      ]
     },
     "execution_count": 143,
     "metadata": {},
     "output_type": "execute_result"
    }
   ],
   "source": [
    "counterpress_count_by_match = forcntrprs.groupby(['match_id', 'team_name']).size().reset_index(name='counterpress')\n",
    "counterpress_count_by_match"
   ]
  },
  {
   "cell_type": "code",
   "execution_count": 75,
   "metadata": {},
   "outputs": [
    {
     "data": {
      "text/html": [
       "<div>\n",
       "<style scoped>\n",
       "    .dataframe tbody tr th:only-of-type {\n",
       "        vertical-align: middle;\n",
       "    }\n",
       "\n",
       "    .dataframe tbody tr th {\n",
       "        vertical-align: top;\n",
       "    }\n",
       "\n",
       "    .dataframe thead th {\n",
       "        text-align: right;\n",
       "    }\n",
       "</style>\n",
       "<table border=\"1\" class=\"dataframe\">\n",
       "  <thead>\n",
       "    <tr style=\"text-align: right;\">\n",
       "      <th></th>\n",
       "      <th>match_id</th>\n",
       "      <th>team_name</th>\n",
       "      <th>type_name</th>\n",
       "    </tr>\n",
       "  </thead>\n",
       "  <tbody>\n",
       "    <tr>\n",
       "      <th>0</th>\n",
       "      <td>3788741</td>\n",
       "      <td>Italy</td>\n",
       "      <td>15</td>\n",
       "    </tr>\n",
       "    <tr>\n",
       "      <th>1</th>\n",
       "      <td>3788741</td>\n",
       "      <td>Turkey</td>\n",
       "      <td>15</td>\n",
       "    </tr>\n",
       "    <tr>\n",
       "      <th>2</th>\n",
       "      <td>3788755</td>\n",
       "      <td>Turkey</td>\n",
       "      <td>5</td>\n",
       "    </tr>\n",
       "    <tr>\n",
       "      <th>3</th>\n",
       "      <td>3788755</td>\n",
       "      <td>Wales</td>\n",
       "      <td>10</td>\n",
       "    </tr>\n",
       "    <tr>\n",
       "      <th>4</th>\n",
       "      <td>3788765</td>\n",
       "      <td>Switzerland</td>\n",
       "      <td>10</td>\n",
       "    </tr>\n",
       "    <tr>\n",
       "      <th>5</th>\n",
       "      <td>3788765</td>\n",
       "      <td>Turkey</td>\n",
       "      <td>10</td>\n",
       "    </tr>\n",
       "  </tbody>\n",
       "</table>\n",
       "</div>"
      ],
      "text/plain": [
       "   match_id    team_name  type_name\n",
       "0   3788741        Italy         15\n",
       "1   3788741       Turkey         15\n",
       "2   3788755       Turkey          5\n",
       "3   3788755        Wales         10\n",
       "4   3788765  Switzerland         10\n",
       "5   3788765       Turkey         10"
      ]
     },
     "execution_count": 75,
     "metadata": {},
     "output_type": "execute_result"
    }
   ],
   "source": [
    "interception_outcomes = ['Won', 'Success In Play', 'Success out']\n",
    "forint = df[(df['interception_outcome_name'].isin(interception_outcomes)) & (df['match_id'].isin(matchids))]\n",
    "forint = forint[[\"match_id\",'team_name', 'type_name']].reset_index(drop=True)\n",
    "interception_count_by_match = forint.groupby(['match_id', 'team_name']).size().reset_index(name='type_name')\n",
    "interception_count_by_match"
   ]
  },
  {
   "cell_type": "code",
   "execution_count": 135,
   "metadata": {},
   "outputs": [
    {
     "data": {
      "text/html": [
       "<div>\n",
       "<style scoped>\n",
       "    .dataframe tbody tr th:only-of-type {\n",
       "        vertical-align: middle;\n",
       "    }\n",
       "\n",
       "    .dataframe tbody tr th {\n",
       "        vertical-align: top;\n",
       "    }\n",
       "\n",
       "    .dataframe thead th {\n",
       "        text-align: right;\n",
       "    }\n",
       "</style>\n",
       "<table border=\"1\" class=\"dataframe\">\n",
       "  <thead>\n",
       "    <tr style=\"text-align: right;\">\n",
       "      <th></th>\n",
       "      <th>match_id</th>\n",
       "      <th>team_name</th>\n",
       "      <th>type_name</th>\n",
       "      <th>location_x</th>\n",
       "      <th>location_y</th>\n",
       "    </tr>\n",
       "  </thead>\n",
       "  <tbody>\n",
       "    <tr>\n",
       "      <th>0</th>\n",
       "      <td>3788755</td>\n",
       "      <td>Turkey</td>\n",
       "      <td>Miscontrol</td>\n",
       "      <td>23.1</td>\n",
       "      <td>65.3</td>\n",
       "    </tr>\n",
       "    <tr>\n",
       "      <th>1</th>\n",
       "      <td>3788755</td>\n",
       "      <td>Wales</td>\n",
       "      <td>Miscontrol</td>\n",
       "      <td>91.6</td>\n",
       "      <td>34.4</td>\n",
       "    </tr>\n",
       "    <tr>\n",
       "      <th>2</th>\n",
       "      <td>3788755</td>\n",
       "      <td>Wales</td>\n",
       "      <td>Miscontrol</td>\n",
       "      <td>39.4</td>\n",
       "      <td>16.2</td>\n",
       "    </tr>\n",
       "    <tr>\n",
       "      <th>3</th>\n",
       "      <td>3788755</td>\n",
       "      <td>Wales</td>\n",
       "      <td>Dispossessed</td>\n",
       "      <td>112.7</td>\n",
       "      <td>77.6</td>\n",
       "    </tr>\n",
       "    <tr>\n",
       "      <th>4</th>\n",
       "      <td>3788755</td>\n",
       "      <td>Turkey</td>\n",
       "      <td>Dispossessed</td>\n",
       "      <td>104.6</td>\n",
       "      <td>29.9</td>\n",
       "    </tr>\n",
       "    <tr>\n",
       "      <th>...</th>\n",
       "      <td>...</td>\n",
       "      <td>...</td>\n",
       "      <td>...</td>\n",
       "      <td>...</td>\n",
       "      <td>...</td>\n",
       "    </tr>\n",
       "    <tr>\n",
       "      <th>222</th>\n",
       "      <td>3788765</td>\n",
       "      <td>Switzerland</td>\n",
       "      <td>Miscontrol</td>\n",
       "      <td>106.6</td>\n",
       "      <td>34.8</td>\n",
       "    </tr>\n",
       "    <tr>\n",
       "      <th>223</th>\n",
       "      <td>3788765</td>\n",
       "      <td>Turkey</td>\n",
       "      <td>Interception</td>\n",
       "      <td>24.1</td>\n",
       "      <td>29.6</td>\n",
       "    </tr>\n",
       "    <tr>\n",
       "      <th>224</th>\n",
       "      <td>3788765</td>\n",
       "      <td>Turkey</td>\n",
       "      <td>Interception</td>\n",
       "      <td>31.7</td>\n",
       "      <td>29.6</td>\n",
       "    </tr>\n",
       "    <tr>\n",
       "      <th>225</th>\n",
       "      <td>3788765</td>\n",
       "      <td>Switzerland</td>\n",
       "      <td>Dispossessed</td>\n",
       "      <td>32.3</td>\n",
       "      <td>29.6</td>\n",
       "    </tr>\n",
       "    <tr>\n",
       "      <th>226</th>\n",
       "      <td>3788765</td>\n",
       "      <td>Turkey</td>\n",
       "      <td>Interception</td>\n",
       "      <td>16.9</td>\n",
       "      <td>57.7</td>\n",
       "    </tr>\n",
       "  </tbody>\n",
       "</table>\n",
       "<p>227 rows × 5 columns</p>\n",
       "</div>"
      ],
      "text/plain": [
       "     match_id    team_name     type_name  location_x  location_y\n",
       "0     3788755       Turkey    Miscontrol        23.1        65.3\n",
       "1     3788755        Wales    Miscontrol        91.6        34.4\n",
       "2     3788755        Wales    Miscontrol        39.4        16.2\n",
       "3     3788755        Wales  Dispossessed       112.7        77.6\n",
       "4     3788755       Turkey  Dispossessed       104.6        29.9\n",
       "..        ...          ...           ...         ...         ...\n",
       "222   3788765  Switzerland    Miscontrol       106.6        34.8\n",
       "223   3788765       Turkey  Interception        24.1        29.6\n",
       "224   3788765       Turkey  Interception        31.7        29.6\n",
       "225   3788765  Switzerland  Dispossessed        32.3        29.6\n",
       "226   3788765       Turkey  Interception        16.9        57.7\n",
       "\n",
       "[227 rows x 5 columns]"
      ]
     },
     "execution_count": 135,
     "metadata": {},
     "output_type": "execute_result"
    }
   ],
   "source": [
    "ball_recoveries = ['Dispossessed', 'Interception', 'Miscontrol']\n",
    "ball_loss = df[df['type_name'].isin(ball_recoveries) & df['match_id'].isin(matchids)]\n",
    "ball_loss = ball_loss[['match_id', 'location', 'team_name', 'type_name']].reset_index(drop=True)\n",
    "\n",
    "# Assigning the \"interception\" value to the other team\n",
    "\n",
    "interceptions = ball_loss[ball_loss['type_name'] == 'Interception']\n",
    "for _, interception in interceptions.iterrows():\n",
    "    other_team = ball_loss[\n",
    "        (ball_loss['match_id'] == interception['match_id']) &\n",
    "        (ball_loss['team_name'] != interception['team_name'])\n",
    "    ]\n",
    "    ball_loss.loc[interception.name, 'team_name'] = other_team['team_name'].iloc[0]\n",
    "\n",
    "ball_loss['location_x'] = ball_loss['location'].str.split(',', expand=True)[0].str.strip()\n",
    "ball_loss['location_y'] = ball_loss['location'].str.split(',', expand=True)[1].str.strip()\n",
    "ball_loss['location_x'] = pd.to_numeric(ball_loss['location_x'], errors='coerce')\n",
    "ball_loss['location_y'] = pd.to_numeric(ball_loss['location_y'], errors='coerce')\n",
    "ball_loss = ball_loss.drop('location', axis=1)\n",
    "\n",
    "ball_loss\n",
    "# interceptions1 = ball_loss[ball_loss['type_name'] == 'Interception']\n",
    "# interceptions1"
   ]
  },
  {
   "cell_type": "code",
   "execution_count": 76,
   "metadata": {},
   "outputs": [],
   "source": [
    "def plot_xg_race(dataframe, matchid, team1, team2):\n",
    "\n",
    "    match = forxg[forxg['match_id'] == matchid]\n",
    "    match.sort_values(by='minute', inplace=True)\n",
    "    \n",
    "    teams = match['team_name'].unique()\n",
    "\n",
    "    fig, ax = plt.subplots(figsize=(12, 6))  # Adjust figure size\n",
    "    colors = ['blue', 'red', 'green', 'orange']\n",
    "    \n",
    "    cumulative_xg = {team: [] for team in teams}\n",
    "    step_minutes = {team: [] for team in teams}\n",
    "    step_xg = {team: [] for team in teams}\n",
    "    \n",
    "    # Iterating over each minute in the match\n",
    "    for minute in match['minute']:\n",
    "        for team in teams:\n",
    "            # Calculating the cumulative xG for the current minute and team\n",
    "            cumulative_xg[team].append(match[(match['team_name'] == team) & (match['minute'] <= minute)]['shot_statsbomb_xg'].sum())\n",
    "        \n",
    "        # Check if the xG value increased in the last minute\n",
    "        for team in teams:\n",
    "            if len(cumulative_xg[team]) > 1 and cumulative_xg[team][-1] > cumulative_xg[team][-2]:\n",
    "                step_minutes[team].append(minute)\n",
    "                step_xg[team].append(cumulative_xg[team][-2])\n",
    "    \n",
    "    # Ploting xG lines\n",
    "    for i, team in enumerate(teams):\n",
    "        ax.step(match['minute'], cumulative_xg[team], label=team, color=colors[i], where='post', linestyle='-')\n",
    "    \n",
    "    # Plotting the steps\n",
    "    for team in teams:\n",
    "        ax.scatter(step_minutes[team], step_xg[team], color=colors[i], marker='o', s=15)\n",
    "    \n",
    "    goals = match[match['shot_outcome_name'] == 'Goal']\n",
    "    y_values = [cumulative_xg[team][j-1] for team, j in zip(goals['team_name'], goals.index - 1)]\n",
    "    ax.scatter(goals['minute'], y_values, color='red', marker='*', s=200, label='Goal')\n",
    "\n",
    "    ax.set_xticks(range(0, max(match['minute'])+1, 10))  # Adjust tick frequency\n",
    "    \n",
    "    ax.set_xlabel('Minute')\n",
    "    ax.set_ylabel('Cumulative xG')\n",
    "    ax.legend()\n",
    "    ax.set_title(f'xG Race - {team1} ({cumulative_xg[team1][-1]:.2f}) vs {team2} ({cumulative_xg[team2][-1]:.2f})')\n",
    "    plt.show()\n",
    "\n"
   ]
  },
  {
   "cell_type": "code",
   "execution_count": 77,
   "metadata": {},
   "outputs": [],
   "source": [
    "def plot_bar(dataframe, matchid, type, plotname):\n",
    "    selected_match = dataframe[dataframe['match_id'] == matchid]\n",
    "\n",
    "    team_names = selected_match['team_name'].unique()\n",
    "    # Print the team names\n",
    "    for team in team_names:\n",
    "        team1 = team_names[0]\n",
    "        team2 = team_names[1]\n",
    "\n",
    "\n",
    "    plt.bar(selected_match['team_name'], selected_match[type])\n",
    "    plt.xlabel('Team')\n",
    "    plt.ylabel(plotname)\n",
    "    plt.title(f'{plotname} - {team1} vs {team2}')\n",
    "\n",
    "    for i, count in enumerate(selected_match[type]):\n",
    "        plt.text(i, count, f'{count:.2f}' if count % 1 != 0 else f'{count:.0f}', ha='center', va='bottom')\n",
    "\n",
    "\n",
    "    plt.show()"
   ]
  },
  {
   "cell_type": "code",
   "execution_count": 155,
   "metadata": {},
   "outputs": [],
   "source": [
    "def heatmap_gaussian(id, dataframe, team, didthis):   \n",
    "    \n",
    "    plotter = dataframe[(dataframe['match_id'] == id) & (dataframe['team_name'] == team)]\n",
    "    \n",
    "    pitch = Pitch(pitch_type='statsbomb', line_zorder=2, pitch_color='#22312b', line_color='#efefef')\n",
    "    fig, ax = pitch.draw(figsize=(6.6, 4.125))\n",
    "    fig.set_facecolor('#22312b')\n",
    "    \n",
    "    bin_statistic = pitch.bin_statistic(plotter['location_x'], plotter['location_y'], statistic='count', bins=(25, 25))\n",
    "    bin_statistic['statistic'] = gaussian_filter(bin_statistic['statistic'], 1)\n",
    "    pcm = pitch.heatmap(bin_statistic, ax=ax, cmap='hot', edgecolors='#22312b')\n",
    "    \n",
    "    # Add the colorbar and format off-white\n",
    "    cbar = fig.colorbar(pcm, ax=ax, shrink=0.6)\n",
    "    cbar.outline.set_edgecolor('#efefef')\n",
    "    cbar.ax.yaxis.set_tick_params(color='#efefef')\n",
    "    \n",
    "    ax.set_title(f'Areas where {team} { didthis}', color='#efefef', fontsize=14)"
   ]
  },
  {
   "cell_type": "code",
   "execution_count": 199,
   "metadata": {},
   "outputs": [],
   "source": [
    "def shotmap(id, dataframe, team):   \n",
    "    \n",
    "    plotter = dataframe[(dataframe['match_id'] == id) & (dataframe['team_name'] == team)]\n",
    "    \n",
    "    pitch = VerticalPitch(pad_bottom=0.5,\n",
    "                      half=True,  \n",
    "                      goal_type='box',\n",
    "                      goal_alpha=0.8)  \n",
    "    fig, ax = pitch.draw(figsize=(8, 5))\n",
    "\n",
    "    sc1 = pitch.scatter(plotter[plotter['shot_outcome_name'] == 'Goal']['location_x'], plotter[plotter['shot_outcome_name'] == 'Goal']['location_y'],\n",
    "                    s=100,\n",
    "                    c='#b94b75', \n",
    "                    edgecolors='#383838',  \n",
    "                    marker='o',  # Use 'o' marker shape for goals\n",
    "                    ax=ax)\n",
    "    \n",
    "    sc2 = pitch.scatter(plotter[plotter['shot_outcome_name'] != 'Goal']['location_x'], plotter[plotter['shot_outcome_name'] != 'Goal']['location_y'],\n",
    "                    s=(plotter[plotter['shot_outcome_name'] != 'Goal']['shot_statsbomb_xg'] * 900) + 100,\n",
    "                    c='#b94b75', \n",
    "                    edgecolors='#383838',  \n",
    "                    marker=(5, 2),  # Use (5, 2) marker shape for non-goals\n",
    "                    ax=ax)\n",
    "    txt = ax.text(x=40, y=80, s=f'{team} shots',\n",
    "                size=30,\n",
    "                color=pitch.line_color,\n",
    "                va='center', ha='center')"
   ]
  },
  {
   "attachments": {},
   "cell_type": "markdown",
   "metadata": {},
   "source": [
    "<h2> Match Analysis"
   ]
  },
  {
   "attachments": {},
   "cell_type": "markdown",
   "metadata": {},
   "source": [
    "<h4> <b>Thoughts before analysis</b>"
   ]
  },
  {
   "attachments": {},
   "cell_type": "markdown",
   "metadata": {},
   "source": [
    "Before delving into the data, I'd like to express some of my own thoughts on the way the Turkish national team played in the group stages of EURO 2020.\n",
    "\n",
    "<h5> <b>Pre-tournament expectations</b> </h5>\n",
    "\n",
    "1. The Turkish national team qualified for the competition only losing once, to Iceland.\n",
    "2. The Turkish national team beat and drew with the reigning world champions France during the qualifying stage.\n",
    "3. The Turkish national team conceded only 3 goals, 3 less than France who are considered an extremely defensive team.\n",
    "4. The Turkish national team were considered dark horses (a team expected to overachieve while being discrete doing so) by many pundits and people on social media.\n",
    "5. The Turkish national team was hyped by the Turkish people, and were tipped to win it all. A mistake which we will touch on later.\n",
    "\n",
    "<h5> <b>The group stage</b> </h5>\n",
    "\n",
    "I believe the performance of the Turkish national team could be summed up in a few points:\n",
    "\n",
    "1. The team seemed to crack under the pressure and played with shaky legs.\n",
    "2. The mental drop turned into simple mistakes, misplaced passes, low % in duels, a collective loss of cohesion.\n",
    "3. The team seemed to lack a tactical understanding, something that was pointed out by a minority during the qualifying stages.\n",
    "4. Player positioning was off, once again displaying how the Turkish national team was getting crushed under mental pressure.\n",
    "5. Running distance and pressures seemed to lack, lost balled weren't being chased after, causing the opposing teams to assert dominance on the field.\n",
    "6. Coaching staff didn't seem to have a grip on the situation, making it worse for the men in red and white.\n",
    "\n",
    "These few points should be enough for now, let's see if the stats back these points up."
   ]
  },
  {
   "attachments": {},
   "cell_type": "markdown",
   "metadata": {},
   "source": [
    "<h4> Delving into the stats"
   ]
  },
  {
   "attachments": {},
   "cell_type": "markdown",
   "metadata": {},
   "source": [
    "<h4> <b>Italy 3 - 0 Turkiye</b> </h4>"
   ]
  },
  {
   "attachments": {},
   "cell_type": "markdown",
   "metadata": {},
   "source": [
    "<h5> <b> Possession\n"
   ]
  },
  {
   "cell_type": "code",
   "execution_count": 78,
   "metadata": {},
   "outputs": [
    {
     "data": {
      "image/png": "[encoded data removed]",
      "text/plain": [
       "<Figure size 640x480 with 1 Axes>"
      ]
     },
     "metadata": {},
     "output_type": "display_data"
    }
   ],
   "source": [
    "tvi_id = 3788741\n",
    "plot_bar(possession_per_match, tvi_id, 'possession_percentage', 'Possession')"
   ]
  },
  {
   "attachments": {},
   "cell_type": "markdown",
   "metadata": {},
   "source": [
    "The Turks were dominated on the ball, keeping only around 33.5% of the ball during the whole match."
   ]
  },
  {
   "attachments": {},
   "cell_type": "markdown",
   "metadata": {},
   "source": [
    "<h5> <b> xG Chart & Shots\n"
   ]
  },
  {
   "cell_type": "code",
   "execution_count": 200,
   "metadata": {},
   "outputs": [
    {
     "data": {
      "image/png": "[encoded data removed]",
      "text/plain": [
       "<Figure size 800x500 with 1 Axes>"
      ]
     },
     "metadata": {},
     "output_type": "display_data"
    }
   ],
   "source": [
    "shotmap(tvi_id, forxg, 'Italy')"
   ]
  },
  {
   "cell_type": "code",
   "execution_count": 201,
   "metadata": {},
   "outputs": [
    {
     "data": {
      "image/png": "[encoded data removed]",
      "text/plain": [
       "<Figure size 800x500 with 1 Axes>"
      ]
     },
     "metadata": {},
     "output_type": "display_data"
    }
   ],
   "source": [
    "shotmap(tvi_id, forxg, 'Turkey')"
   ]
  },
  {
   "cell_type": "code",
   "execution_count": 140,
   "metadata": {},
   "outputs": [
    {
     "data": {
      "image/png": "[encoded data removed]",
      "text/plain": [
       "<Figure size 640x480 with 1 Axes>"
      ]
     },
     "metadata": {},
     "output_type": "display_data"
    }
   ],
   "source": [
    "plot_bar(shot_count_by_match, tvi_id, 'shot_count', \"Shots Taken\")"
   ]
  },
  {
   "cell_type": "code",
   "execution_count": 80,
   "metadata": {},
   "outputs": [
    {
     "name": "stderr",
     "output_type": "stream",
     "text": [
      "C:\\Users\\Aykut\\AppData\\Local\\Temp\\ipykernel_4272\\131464248.py:4: SettingWithCopyWarning: \n",
      "A value is trying to be set on a copy of a slice from a DataFrame\n",
      "\n",
      "See the caveats in the documentation: https://pandas.pydata.org/pandas-docs/stable/user_guide/indexing.html#returning-a-view-versus-a-copy\n",
      "  match.sort_values(by='minute', inplace=True)\n"
     ]
    },
    {
     "data": {
      "image/png": "[encoded data removed]",
      "text/plain": [
       "<Figure size 1200x600 with 1 Axes>"
      ]
     },
     "metadata": {},
     "output_type": "display_data"
    }
   ],
   "source": [
    "plot_xg_race(forxg, tvi_id, 'Turkey', 'Italy')"
   ]
  },
  {
   "attachments": {},
   "cell_type": "markdown",
   "metadata": {},
   "source": [
    "As seen on the xG race chart, Turkiye conceded 3 goals (with 1 own goal, 24 shots) on around 1.6 xG while producing only around 0.15 xG (3 shots). Turkiye were able to produce their only semi-noteworthy xG in injury time of the second half."
   ]
  },
  {
   "attachments": {},
   "cell_type": "markdown",
   "metadata": {},
   "source": [
    "<h5> <b> Dispossession\n"
   ]
  },
  {
   "cell_type": "code",
   "execution_count": 81,
   "metadata": {},
   "outputs": [
    {
     "data": {
      "image/png": "[encoded data removed]",
      "text/plain": [
       "<Figure size 640x480 with 1 Axes>"
      ]
     },
     "metadata": {},
     "output_type": "display_data"
    }
   ],
   "source": [
    "plot_bar(disp_count_by_match, tvi_id, 'type_name', \"Dispossessed\")"
   ]
  },
  {
   "cell_type": "code",
   "execution_count": 82,
   "metadata": {},
   "outputs": [
    {
     "data": {
      "image/png": "[encoded data removed]",
      "text/plain": [
       "<Figure size 640x480 with 1 Axes>"
      ]
     },
     "metadata": {},
     "output_type": "display_data"
    }
   ],
   "source": [
    "plot_bar(miscontrol_count_by_match, tvi_id, 'type_name', \"Lost balls due to bad first touch\")"
   ]
  },
  {
   "attachments": {},
   "cell_type": "markdown",
   "metadata": {},
   "source": [
    "Contrary to my predictions from before, Turkiye was not dispossessed much more than Italy. In fact, the Italians would start their winning campaign by losing the ball more than their opponents."
   ]
  },
  {
   "attachments": {},
   "cell_type": "markdown",
   "metadata": {},
   "source": [
    "<h5> <b> Pressures made\n"
   ]
  },
  {
   "cell_type": "code",
   "execution_count": 83,
   "metadata": {},
   "outputs": [
    {
     "data": {
      "image/png": "[encoded data removed]",
      "text/plain": [
       "<Figure size 640x480 with 1 Axes>"
      ]
     },
     "metadata": {},
     "output_type": "display_data"
    }
   ],
   "source": [
    "plot_bar(press_count_by_match, tvi_id, 'type_name', \"Pressures\")"
   ]
  },
  {
   "attachments": {},
   "cell_type": "markdown",
   "metadata": {},
   "source": [
    "Interestingly, the Turkish team pressed the Italians almost 40% more, proving my point on \"lack of pressures\" wrong. We should also look at counterpress', where a team presses back within 5 seconds of an open play turnover."
   ]
  },
  {
   "attachments": {},
   "cell_type": "markdown",
   "metadata": {},
   "source": [
    "<h5> <b> Counterpresses\n"
   ]
  },
  {
   "cell_type": "code",
   "execution_count": 84,
   "metadata": {},
   "outputs": [
    {
     "data": {
      "image/png": "[encoded data removed]",
      "text/plain": [
       "<Figure size 640x480 with 1 Axes>"
      ]
     },
     "metadata": {},
     "output_type": "display_data"
    }
   ],
   "source": [
    "plot_bar(counterpress_count_by_match, tvi_id, 'counterpress', \"Counterpresses\")"
   ]
  },
  {
   "attachments": {},
   "cell_type": "markdown",
   "metadata": {},
   "source": [
    "As seen here, the Turkish national team were out-counterpressed. This means that the Turks only pressed back 51 times to get a ball they lost, while the Italians pressed 76 times. The lack of heart from the Turkish team seems to have been their demise here. Let's check out the interceptions."
   ]
  },
  {
   "attachments": {},
   "cell_type": "markdown",
   "metadata": {},
   "source": [
    "<h5> <b> Interceptions\n"
   ]
  },
  {
   "cell_type": "code",
   "execution_count": 166,
   "metadata": {},
   "outputs": [
    {
     "data": {
      "image/png": "[encoded data removed]",
      "text/plain": [
       "<Figure size 640x480 with 1 Axes>"
      ]
     },
     "metadata": {},
     "output_type": "display_data"
    }
   ],
   "source": [
    "plot_bar(interception_count_by_match, tvi_id, 'type_name', \"Interceptions\")"
   ]
  },
  {
   "attachments": {},
   "cell_type": "markdown",
   "metadata": {},
   "source": [
    "Interceptions seem to be equal. Maybe the Turks had trouble gaining the ball and pressing in the *right* places of the pitch. Let's take a look at the zones of possession gain for both teams."
   ]
  },
  {
   "attachments": {},
   "cell_type": "markdown",
   "metadata": {},
   "source": [
    "<h5> <b> Zones of Ball Loss\n"
   ]
  },
  {
   "cell_type": "code",
   "execution_count": 161,
   "metadata": {},
   "outputs": [
    {
     "data": {
      "image/png": "[encoded data removed]",
      "text/plain": [
       "<Figure size 660x412.5 with 2 Axes>"
      ]
     },
     "metadata": {},
     "output_type": "display_data"
    }
   ],
   "source": [
    "heatmap_gaussian(tvi_id, ball_loss, 'Turkey', 'lost the ball')"
   ]
  },
  {
   "cell_type": "code",
   "execution_count": 160,
   "metadata": {},
   "outputs": [
    {
     "data": {
      "image/png": "[encoded data removed]",
      "text/plain": [
       "<Figure size 660x412.5 with 2 Axes>"
      ]
     },
     "metadata": {},
     "output_type": "display_data"
    }
   ],
   "source": [
    "heatmap_gaussian(tvi_id, ball_loss, 'Italy', 'lost the ball')"
   ]
  },
  {
   "attachments": {},
   "cell_type": "markdown",
   "metadata": {},
   "source": [
    "I realised that area of ball loss may be distorted as attacking direction changes after half time, but after some research, I've learned that football data is orientated so the attack direction is from left to right. I'm not 100% confident of this fact, but I will take it for now."
   ]
  },
  {
   "attachments": {},
   "cell_type": "markdown",
   "metadata": {},
   "source": [
    "As seen on the heatmaps, while the Italians have generally lost the ball all around the pitch, the Turks have mainly lost it in the middle of the pitch and around the left back position. (Umut Meras was the left back for Turkiye.)"
   ]
  },
  {
   "attachments": {},
   "cell_type": "markdown",
   "metadata": {},
   "source": [
    "The areas of loss indicate that the Italian midfield overrun the Turkish midfield and was able to go on to attack straight away. "
   ]
  },
  {
   "attachments": {},
   "cell_type": "markdown",
   "metadata": {},
   "source": [
    "Let's see if the zones of pressing and counterpressing correlate with the possession loss heatmap."
   ]
  },
  {
   "attachments": {},
   "cell_type": "markdown",
   "metadata": {},
   "source": [
    "<h5> <b> Zones of Press & Counterpress"
   ]
  },
  {
   "cell_type": "code",
   "execution_count": 162,
   "metadata": {},
   "outputs": [
    {
     "data": {
      "image/png": "[encoded data removed]",
      "text/plain": [
       "<Figure size 660x412.5 with 2 Axes>"
      ]
     },
     "metadata": {},
     "output_type": "display_data"
    }
   ],
   "source": [
    "heatmap_gaussian(tvi_id, forpress, 'Turkey', 'pressed')"
   ]
  },
  {
   "cell_type": "code",
   "execution_count": 163,
   "metadata": {},
   "outputs": [
    {
     "data": {
      "image/png": "[encoded data removed]",
      "text/plain": [
       "<Figure size 660x412.5 with 2 Axes>"
      ]
     },
     "metadata": {},
     "output_type": "display_data"
    }
   ],
   "source": [
    "heatmap_gaussian(tvi_id, forpress, 'Italy', 'pressed')"
   ]
  },
  {
   "attachments": {},
   "cell_type": "markdown",
   "metadata": {},
   "source": [
    "A very interesting graph is upon us. Turkiye seem to have pressed mostly in their own half while Italy have pressed mostly between the Turkish defence and midfield lines. This implies that Turkey were under high pressure starting from the goalkeeper, while they could only press back to get the ball from an attacking Italy side."
   ]
  },
  {
   "cell_type": "code",
   "execution_count": 164,
   "metadata": {},
   "outputs": [
    {
     "data": {
      "image/png": "[encoded data removed]",
      "text/plain": [
       "<Figure size 660x412.5 with 2 Axes>"
      ]
     },
     "metadata": {},
     "output_type": "display_data"
    }
   ],
   "source": [
    "heatmap_gaussian(tvi_id, forcntrprs, 'Turkey', 'counterpressed')"
   ]
  },
  {
   "cell_type": "code",
   "execution_count": 165,
   "metadata": {},
   "outputs": [
    {
     "data": {
      "image/png": "[encoded data removed]",
      "text/plain": [
       "<Figure size 660x412.5 with 2 Axes>"
      ]
     },
     "metadata": {},
     "output_type": "display_data"
    }
   ],
   "source": [
    "heatmap_gaussian(tvi_id, forcntrprs, 'Italy', 'counterpressed')"
   ]
  },
  {
   "attachments": {},
   "cell_type": "markdown",
   "metadata": {},
   "source": [
    "From these heatmaps, we see that Turkiye mostly counterpressed (pressing actions inside the 5 seconds after losing a ball) on the right midfield while Italy seem to have counterpressed mostly after losing the ball where Turkiye mostly PRESSED. (As seen in the pressing heatmap from before)"
   ]
  },
  {
   "attachments": {},
   "cell_type": "markdown",
   "metadata": {},
   "source": [
    "After looking at these heatmaps we clearly see that the Turkish side wasn't on the attacking front and \"parked the bus\" in front of goal."
   ]
  }
 ],
 "metadata": {
  "kernelspec": {
   "display_name": "Python 3",
   "language": "python",
   "name": "python3"
  },
  "language_info": {
   "codemirror_mode": {
    "name": "ipython",
    "version": 3
   },
   "file_extension": ".py",
   "mimetype": "text/x-python",
   "name": "python",
   "nbconvert_exporter": "python",
   "pygments_lexer": "ipython3",
   "version": "3.11.1"
  },
  "orig_nbformat": 4
 },
 "nbformat": 4,
 "nbformat_minor": 2
}
